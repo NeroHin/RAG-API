{
 "cells": [
  {
   "cell_type": "code",
   "execution_count": 11,
   "metadata": {},
   "outputs": [
    {
     "name": "stdout",
     "output_type": "stream",
     "text": [
      "與「請問我想開酒吧可以辦貸款嗎？要準備甚麼資料？」最相似的問題是：「辦理信貸需要準備甚麼文件呢？」\n",
      "相似度：86.43%\n",
      "答案：需檢附下列文件：身分證明文件正反面影本。收入證明文件。\n",
      "\n",
      "與「請問我想開酒吧可以辦貸款嗎？要準備甚麼資料？」最相似的前三個問題是：\n",
      "\n",
      "1. 辦理信貸需要準備甚麼文件呢？, 相似度：86.43%\n",
      "2. 甚麼樣的資金用途都可以申辦信貸嗎？, 相似度：85.01%\n",
      "3. 辦理房貸的程序是什麼?需要準備什麼文件？, 相似度：83.43%\n"
     ]
    }
   ],
   "source": [
    "from sentence_transformers import SentenceTransformer\n",
    "import pandas as pd\n",
    "from sklearn.metrics.pairwise import cosine_similarity\n",
    "import numpy as np\n",
    "import warnings\n",
    "\n",
    "warnings.filterwarnings(\"ignore\")\n",
    "\n",
    "\n",
    "\n",
    "model = SentenceTransformer(\"BAAI/bge-large-zh\", cache_folder=\"../RAG-API/cache_models/\")\n",
    "qa_df = pd.read_csv(\"loan_data.csv\")\n",
    "\n",
    "\n",
    "# embedding the questions\n",
    "question_embeddings = model.encode(qa_df[\"input\"].values.tolist())\n",
    "\n",
    "example_question = \"請問我想開酒吧可以辦貸款嗎？要準備甚麼資料？\"\n",
    "\n",
    "\n",
    "similarities = cosine_similarity(model.encode([example_question]), question_embeddings)[0]\n",
    "\n",
    "most_similar_question = qa_df.iloc[np.argmax(similarities)][\"input\"]\n",
    "top_3_similar_questions = qa_df.iloc[np.argsort(similarities)[::-1][:3]][\"input\"].values.tolist()\n",
    "print(f\"與「{example_question}」最相似的問題是：「{most_similar_question}」\")\n",
    "print(f\"相似度：{similarities.max():.2%}\")\n",
    "print(f\"答案：{qa_df.iloc[np.argmax(similarities)]['output']}\")\n",
    "\n",
    "print(f\"\\n與「{example_question}」最相似的前三個問題是：\\n\")\n",
    "for i, q in enumerate(top_3_similar_questions):\n",
    "    print(f\"{i+1}. {q}, 相似度：{similarities[np.argsort(similarities)[::-1][i]]:.2%}\")"
   ]
  },
  {
   "cell_type": "code",
   "execution_count": null,
   "metadata": {},
   "outputs": [],
   "source": []
  }
 ],
 "metadata": {
  "kernelspec": {
   "display_name": "ibm",
   "language": "python",
   "name": "python3"
  },
  "language_info": {
   "codemirror_mode": {
    "name": "ipython",
    "version": 3
   },
   "file_extension": ".py",
   "mimetype": "text/x-python",
   "name": "python",
   "nbconvert_exporter": "python",
   "pygments_lexer": "ipython3",
   "version": "3.10.13"
  }
 },
 "nbformat": 4,
 "nbformat_minor": 2
}
